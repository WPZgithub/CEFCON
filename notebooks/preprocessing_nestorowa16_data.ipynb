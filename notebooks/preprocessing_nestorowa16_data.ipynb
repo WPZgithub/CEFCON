{
 "cells": [
  {
   "cell_type": "markdown",
   "source": [
    "# Overview\n",
    "This notebook will demonstrate the preprocessing of scRNA-seq data about mouse hematopoietic stem cells differentiation.\n",
    "The original data is obtained from: *Nestorowa, S., Hamey F.K., Pijuan Sala B., et al. A single-cell resolution map of mouse hematopoietic stem and progenitor cell differentiation. Blood, 128(8): e20-e31 (2016).* <https://doi.org/10.1182/blood-2016-05-716480>\n"
   ],
   "metadata": {
    "collapsed": false
   }
  },
  {
   "cell_type": "markdown",
   "source": [
    "### Contents\n",
    "- [1. Load data](#section1)\n",
    "- [2. Convert Ensembl ID to gene symbol](#section2)\n",
    "- [3. Define cell labels](#section3)\n",
    "- [4. Make Anndata object](#section4)\n",
    "- [5. Filtering, normalization and log transformation](#section5)\n",
    "- [6. High variable genes](#section6)\n",
    "- [7. PCA, KNN-graph and cell clustering](#section7)\n",
    "- [8. Dimensionality reduction and visualization](#section8)\n",
    "- [9. Trajectory inference and differential expression analysis](#section9)\n",
    "- [10. Save the preprocessed data](#section10)"
   ],
   "metadata": {
    "collapsed": false
   }
  },
  {
   "cell_type": "code",
   "execution_count": 1,
   "source": [
    "import numpy as np\n",
    "import pandas as pd\n",
    "from scipy import sparse\n",
    "import scanpy as sc\n",
    "import warnings\n",
    "warnings.filterwarnings(\"ignore\")"
   ],
   "metadata": {
    "collapsed": false,
    "ExecuteTime": {
     "end_time": "2023-09-25T13:31:25.016269Z",
     "start_time": "2023-09-25T13:31:24.005513300Z"
    }
   },
   "outputs": []
  },
  {
   "cell_type": "code",
   "execution_count": 2,
   "source": [
    "%matplotlib inline\n",
    "%config InlineBackend.figure_format = 'retina' # svg\n",
    "\n",
    "sc.settings.set_figure_params(dpi=80,\n",
    "                              dpi_save=300,\n",
    "                              frameon=False,\n",
    "                              figsize=(4, 4),\n",
    "                              fontsize=13,\n",
    "                              facecolor='white',\n",
    "                              color_map='viridis_r',\n",
    "                              )\n",
    "\n",
    "# Reset random seed\n",
    "np.random.seed(2022)"
   ],
   "metadata": {
    "collapsed": false,
    "ExecuteTime": {
     "end_time": "2023-09-25T13:31:25.031888900Z",
     "start_time": "2023-09-25T13:31:25.016269Z"
    }
   },
   "outputs": []
  },
  {
   "cell_type": "markdown",
   "source": [
    "<a id=\"section1\"></a>\n",
    "## 1. Load data"
   ],
   "metadata": {
    "collapsed": false
   }
  },
  {
   "cell_type": "markdown",
   "source": [
    "Read counts data can be downloaded from <https://www.ncbi.nlm.nih.gov/geo/query/acc.cgi?acc=GSE81682>.\n",
    "Cell type labels can be downloaded from <https://blood.stemcells.cam.ac.uk/data/>. The following lines can be used to download these data in a Unix-based system:\n",
    "&nbsp;\n",
    "```python\n",
    "!mkdir mHSC_Nestorowa16_data\n",
    "!wget -P ./mHSC_Nestorowa16_data/ https://ftp.ncbi.nlm.nih.gov/geo/series/GSE81nnn/GSE81682/suppl/GSE81682_HTSeq_counts.txt.gz\n",
    "!wget -P ./mHSC_Nestorowa16_data/ http://blood.stemcells.cam.ac.uk/data/{all_cell_types.txt,cluster_ids.txt}\n",
    "```"
   ],
   "metadata": {
    "collapsed": false
   }
  },
  {
   "cell_type": "code",
   "execution_count": 4,
   "source": [
    "read_counts = pd.read_csv('mHSC_Nestorowa16_data/GSE81682_HTSeq_counts.txt.gz', sep='\\t', index_col=0)\n",
    "cell_types = pd.read_csv('mHSC_Nestorowa16_data/all_cell_types.txt', sep='\\t', index_col=0)\n",
    "cluster_ids = pd.read_csv('mHSC_Nestorowa16_data/cluster_ids.txt', sep=' ', header=None, index_col=0, names=['cluster'])\n",
    "\n",
    "read_counts = read_counts.loc[:, cluster_ids.index]\n",
    "read_counts = read_counts.loc[read_counts.index.str.startswith('ENS'), :]\n",
    "cell_types = cell_types.loc[read_counts.columns, ]"
   ],
   "metadata": {
    "collapsed": false,
    "ExecuteTime": {
     "end_time": "2023-09-25T13:31:28.883074600Z",
     "start_time": "2023-09-25T13:31:25.031888900Z"
    }
   },
   "outputs": []
  },
  {
   "cell_type": "markdown",
   "source": [
    "<a id=\"section2\"></a>\n",
    "## 2. Convert Ensembl ID to gene symbol"
   ],
   "metadata": {
    "collapsed": false
   }
  },
  {
   "cell_type": "code",
   "execution_count": 5,
   "source": [
    "import biomart\n",
    "\n",
    "server = biomart.BiomartServer('http://asia.ensembl.org/biomart/')  # http://useast.ensembl.org/biomart\n",
    "mouse_dataset = server.datasets['mmusculus_gene_ensembl']\n",
    "mouse_attributes = ['ensembl_gene_id', 'mgi_symbol']  # 'external_gene_name'\n",
    "filters = {'biotype': 'protein_coding'}\n",
    "\n",
    "query = mouse_dataset.search({'attributes': mouse_attributes, 'filters':filters})\n",
    "query = query.raw.data.decode('ascii').split('\\n')[:-1]\n",
    "query = pd.DataFrame([d.split('\\t') for d in query], columns=['ensembl_gene_id', 'mgi_symbol'])\n",
    "query.index = query['ensembl_gene_id']\n",
    "query.index.name = None\n",
    "query.drop_duplicates(['mgi_symbol'], keep='first', inplace=True) # duplicated gene name\n",
    "query.drop_duplicates(['ensembl_gene_id'], keep='first', inplace=True) # duplicated gene name\n",
    "query = query[query['mgi_symbol']!='']\n",
    "\n",
    "# delete unmatched ensembl ids\n",
    "gene_list = [query.loc[x, 'mgi_symbol'] if (x in query.index) else x for x in read_counts.index]\n",
    "read_counts.index = gene_list\n",
    "gene_index = [i for i,x in enumerate(gene_list) if not x.startswith('ENS')]\n",
    "read_counts = read_counts.iloc[gene_index, :]\n",
    "print(read_counts.shape)"
   ],
   "metadata": {
    "collapsed": false,
    "ExecuteTime": {
     "end_time": "2023-09-25T13:32:00.990846800Z",
     "start_time": "2023-09-25T13:31:29.501055800Z"
    }
   },
   "outputs": []
  },
  {
   "cell_type": "markdown",
   "source": [
    "<a id=\"section3\"></a>\n",
    "## 3. Define cell labels"
   ],
   "metadata": {
    "collapsed": false
   }
  },
  {
   "cell_type": "code",
   "execution_count": 6,
   "source": [
    "HSC_group = ['LTHSC_broad','LTHSC','STHSC_broad','STHSC','ESLAM','HSC1']\n",
    "LMPP_group = ['LMPP_broad','LMPP']\n",
    "MPP_group = ['MPP_broad','MPP1_broad','MPP2_broad','MPP3_broad','MPP','MPP1','MPP2','MPP3']\n",
    "CMP_group = ['CMP_broad','CMP']\n",
    "MEP_group = ['MEP_broad','MEP']\n",
    "GMP_group = ['GMP_broad','GMP']\n",
    "\n",
    "# Combine similar subtypes into one cell type\n",
    "cell_labels = pd.DataFrame(index=cell_types.index)\n",
    "cell_labels['HSC'] = cell_types[HSC_group].sum(axis=1)\n",
    "cell_labels['LMPP'] = cell_types[LMPP_group].sum(axis=1)\n",
    "cell_labels['MPP'] = cell_types[MPP_group].sum(axis=1)\n",
    "cell_labels['CMP'] = cell_types[CMP_group].sum(axis=1)\n",
    "cell_labels['MEP'] = cell_types[MEP_group].sum(axis=1)\n",
    "cell_labels['GMP'] = cell_types[GMP_group].sum(axis=1)\n",
    "cell_labels = cell_labels.applymap(lambda x: 1 if x != 0 else 0)\n",
    "cell_labels_more = cell_types[['ESLAM','LTHSC_broad','LMPP_broad','MPP_broad','CMP_broad',\n",
    "                               'MEP_broad','GMP_broad','MPP1_broad','MPP2_broad','MPP3_broad','STHSC_broad']]\n",
    "\n",
    "def non_zero_columns(row):\n",
    "    labels = list(row.index[row != 0])\n",
    "    if len(labels) > 1:\n",
    "        np.random.seed(2023)\n",
    "        x_label = np.random.choice(labels, 1)[0]\n",
    "    else:\n",
    "        x_label = labels[0]\n",
    "    return x_label\n",
    "\n",
    "metadata = pd.DataFrame(columns=['label', 'label_more'], index=cell_labels.index)\n",
    "label_unique = cell_labels.loc[cell_labels.sum(axis=1) == 1, :]\n",
    "metadata.loc[label_unique.index, 'label'] = label_unique.apply(non_zero_columns, axis=1)\n",
    "label_multi = cell_labels.loc[cell_labels.sum(axis=1) > 1, :]\n",
    "metadata.loc[label_multi.index, 'label'] = label_multi.apply(non_zero_columns, axis=1)\n",
    "label_missing = cell_labels.loc[cell_labels.sum(axis=1) == 0, :]\n",
    "\n",
    "cell_labels_more = cell_labels_more.loc[cell_labels_more.sum(axis=1) > 0, :]\n",
    "metadata.loc[cell_labels_more.index, 'label_more'] = cell_labels_more.apply(non_zero_columns, axis=1)\n",
    "\n",
    "print(f'#unique: {len(label_unique)}; #multiple: {len(label_multi)}; #missing: {len(label_missing)}')"
   ],
   "metadata": {
    "collapsed": false,
    "ExecuteTime": {
     "end_time": "2023-09-25T13:32:01.283839100Z",
     "start_time": "2023-09-25T13:32:00.994846100Z"
    }
   },
   "outputs": []
  },
  {
   "cell_type": "markdown",
   "source": [
    "<a id=\"section4\"></a>\n",
    "## 4. Make Anndata object"
   ],
   "metadata": {
    "collapsed": false
   }
  },
  {
   "cell_type": "code",
   "execution_count": 7,
   "source": [
    "adata = sc.AnnData(X=sparse.csr_matrix(read_counts.T), dtype=np.float32)\n",
    "adata.obs_names = read_counts.columns\n",
    "adata.var_names = read_counts.index\n",
    "\n",
    "adata.obs['cell_type_roughly'] = metadata['label']\n",
    "adata = adata[label_unique.index.append(label_multi.index), :] # Drop cells without labels\n",
    "adata.obs['cell_type_finely'] = metadata['label_more']"
   ],
   "metadata": {
    "collapsed": false,
    "ExecuteTime": {
     "end_time": "2023-09-25T13:32:01.741209Z",
     "start_time": "2023-09-25T13:32:01.231060200Z"
    }
   },
   "outputs": []
  },
  {
   "cell_type": "markdown",
   "source": [
    "<a id=\"section5\"></a>\n",
    "## 5. Filtering, normalization and log transformation"
   ],
   "metadata": {
    "collapsed": false
   }
  },
  {
   "cell_type": "code",
   "execution_count": 8,
   "source": [
    "# Filtering\n",
    "adata.var_names_make_unique()\n",
    "sc.pp.filter_cells(adata, min_genes=200)\n",
    "sc.pp.filter_genes(adata, min_cells=5)\n",
    "adata.var['mt'] = adata.var_names.str.startswith('mt-')\n",
    "adata = adata[:, ~adata.var['mt']]\n",
    "\n",
    "adata.raw = adata.copy()\n",
    "adata.layers['raw_count'] = adata.raw.X.copy()\n",
    "\n",
    "# Normalization\n",
    "sc.pp.normalize_total(adata, target_sum=1e4)\n",
    "\n",
    "# Log transformation\n",
    "sc.pp.log1p(adata)\n",
    "adata.layers['log_transformed'] = adata.X.copy()\n",
    "\n",
    "adata"
   ],
   "metadata": {
    "collapsed": false,
    "ExecuteTime": {
     "end_time": "2023-09-25T13:32:02.284914200Z",
     "start_time": "2023-09-25T13:32:01.741209Z"
    }
   },
   "outputs": []
  },
  {
   "cell_type": "markdown",
   "source": [
    "<a id=\"section6\"></a>\n",
    "## 6. Highly variable genes"
   ],
   "metadata": {
    "collapsed": false
   }
  },
  {
   "cell_type": "code",
   "execution_count": 9,
   "source": [
    "# Select the top 3,000 highly variable genes\n",
    "sc.pp.highly_variable_genes(adata, n_top_genes=3000, flavor='cell_ranger')\n",
    "adata = adata[:, adata.var.highly_variable]\n",
    "sc.pp.normalize_total(adata, target_sum=1e4) # renormalize after filtering\n",
    "#sc.pp.scale(adata, max_value=10)"
   ],
   "metadata": {
    "collapsed": false,
    "ExecuteTime": {
     "end_time": "2023-09-25T13:32:02.647150100Z",
     "start_time": "2023-09-25T13:32:02.276914100Z"
    }
   },
   "outputs": []
  },
  {
   "cell_type": "markdown",
   "source": [
    "<a id=\"section7\"></a>\n",
    "## 7. PCA, KNN-graph and cell clustering"
   ],
   "metadata": {
    "collapsed": false
   }
  },
  {
   "cell_type": "code",
   "execution_count": 10,
   "source": [
    "sc.tl.pca(adata)\n",
    "sc.pp.neighbors(adata, n_neighbors=10, n_pcs=35)\n",
    "sc.tl.leiden(adata, resolution=0.7)"
   ],
   "metadata": {
    "collapsed": false,
    "ExecuteTime": {
     "end_time": "2023-09-25T13:32:06.883429100Z",
     "start_time": "2023-09-25T13:32:02.652136800Z"
    }
   },
   "outputs": []
  },
  {
   "cell_type": "markdown",
   "source": [
    "<a id=\"section8\"></a>\n",
    "## 8. Dimensionality reduction and visualization"
   ],
   "metadata": {
    "collapsed": false
   }
  },
  {
   "cell_type": "code",
   "execution_count": 11,
   "source": [
    "# Use force-directed graph drawing\n",
    "sc.tl.draw_graph(adata)"
   ],
   "metadata": {
    "collapsed": false,
    "ExecuteTime": {
     "end_time": "2023-09-25T13:32:11.321990100Z",
     "start_time": "2023-09-25T13:32:06.883429100Z"
    }
   },
   "outputs": []
  },
  {
   "cell_type": "code",
   "execution_count": 12,
   "source": [
    "palette = {'HSC':'#9467bd','MPP':'#9edae5','CMP':'#1f77b4','GMP':'#2ca02c','MEP':'#bcbd22','LMPP':'#e377c2'} # from tab20\n",
    "sc.pl.draw_graph(\n",
    "    adata,\n",
    "    color=['cell_type_roughly', 'cell_type_finely', 'leiden'],\n",
    "    add_outline=True,\n",
    "    palette='tab20',\n",
    "    frameon=True,\n",
    "    wspace=0.4,\n",
    "    #legend_loc='on data',\n",
    "    )"
   ],
   "metadata": {
    "collapsed": false,
    "ExecuteTime": {
     "end_time": "2023-09-25T13:32:12.030729700Z",
     "start_time": "2023-09-25T13:32:11.324994300Z"
    }
   },
   "outputs": []
  },
  {
   "cell_type": "markdown",
   "source": [
    "<a id=\"section9\"></a>\n",
    "## 9. Trajectory inference and differential expression analysis"
   ],
   "metadata": {
    "collapsed": false
   }
  },
  {
   "cell_type": "markdown",
   "source": [
    "CEFCON will construct a cell-lineage-specific GRN for each trajectory, so obtaining developmental trajectories is necessary before doing this. We also suggest considering the differential expression levels of genes along individual trajectories."
   ],
   "metadata": {
    "collapsed": false
   }
  },
  {
   "cell_type": "markdown",
   "source": [
    "We have provided functions that call R to run [Slingshot](https://github.com/kstreet13/slingshot) for obtaining trajectory information and [MAST](https://github.com/RGLab/MAST/) for obtaining differential expression information. To do this, the required R packages should be first installed in the R environment, as follows:\n",
    "```R\n",
    "if (!require(\"BiocManager\", quietly = TRUE))\n",
    "    install.packages(\"BiocManager\")\n",
    "\n",
    "BiocManager::install(c(\"slingshot\", \"MAST\"))\n",
    "```\n",
    "&nbsp;\n",
    "Then, call the R script in python with the following functions:\n",
    "```Python\n",
    "import cefcon as cf\n",
    "temp_R_dir = 'temp_nestorowa16_results'\n",
    "os.makedirs(temp_R_dir, exist_ok=True)\n",
    "cf.utils.prepare_data_for_R(adata, temp_R_dir, reducedDim='X_draw_graph_fa', cluster_label='leiden')\n",
    "cf.utils.process_Slingshot_MAST_R(temp_R_dir, split_num=4, start_cluster=start_cluster, end_cluster=end_cluster)\n",
    "```"
   ],
   "metadata": {
    "collapsed": false
   }
  },
  {
   "cell_type": "markdown",
   "source": [
    "Any other methods of obtaining trajectory and pseudo-time information can be used. If the developmental trajectories with pseudotime are given, we still provide functions that only use MAST to obtain differential expression information of genes. \n",
    "Here, we directly use the trajectory information obtained from [Beeline](https://doi.org/10.5281/zenodo.3701939), and then call the R script in python to obtain differential expression information of genes along each trajectory.\n"
   ],
   "metadata": {
    "collapsed": false
   }
  },
  {
   "cell_type": "code",
   "execution_count": 13,
   "source": [
    "# Load pseudotime information for each lineage\n",
    "cell_lineage_info = pd.DataFrame(np.zeros((len(cell_labels),3)),\n",
    "                                 index=cell_labels.index,\n",
    "                                 columns=['E_pseudotime','GM_pseudotime','L_pseudotime'])\n",
    "for d in ['E','GM','L']:\n",
    "    l = pd.read_csv('./mHSC_Nestorowa16_data/PseudoTime_{}.csv'.format(d),\n",
    "                    index_col=0)\n",
    "    l.index = ['{}-{}'.format(*(i.split('_',1))) if i.startswith('LT') else i\n",
    "               for i in l.index]\n",
    "    cell_lineage_info['{}_pseudotime'.format(d)] = l['PseudoTime']\n",
    "\n",
    "adata.obs['ME_lineage'] = cell_lineage_info['E_pseudotime']\n",
    "adata.obs['GM_lineage'] = cell_lineage_info['GM_pseudotime']\n",
    "adata.obs['L_lineage'] = cell_lineage_info['L_pseudotime']\n",
    "\n",
    "adata.uns['lineages'] = ['ME_lineage', 'GM_lineage', 'L_lineage']"
   ],
   "metadata": {
    "collapsed": false,
    "ExecuteTime": {
     "end_time": "2023-09-25T13:32:12.034761200Z",
     "start_time": "2023-09-25T13:32:12.028576900Z"
    }
   },
   "outputs": []
  },
  {
   "cell_type": "code",
   "execution_count": 14,
   "source": [
    "# Obtain differential expression information of genes along each trajectory\n",
    "import cefcon as cf\n",
    "temp_R_dir = 'temp_nestorowa16_results'\n",
    "os.makedirs(temp_R_dir, exist_ok=True)\n",
    "\n",
    "cf.utils.prepare_data_for_R(adata, temp_R_dir)\n",
    "cf.utils.process_MAST_R(temp_R_dir, split_num=4)"
   ],
   "metadata": {
    "collapsed": false,
    "ExecuteTime": {
     "end_time": "2023-09-25T13:34:55.145347100Z",
     "start_time": "2023-09-25T13:32:19.787327800Z"
    }
   },
   "outputs": []
  },
  {
   "cell_type": "code",
   "execution_count": 15,
   "source": [
    "# Add gene differential expression information into anndata\n",
    "for lin in adata.uns['lineages']:\n",
    "    DE_genes = pd.read_csv(temp_R_dir + f'/DEgenes_MAST_sp4_{lin}.csv', index_col=0)\n",
    "    adata.var[lin+'_logFC'] = DE_genes['logFC']"
   ],
   "metadata": {
    "collapsed": false,
    "ExecuteTime": {
     "end_time": "2023-09-25T13:35:02.708339200Z",
     "start_time": "2023-09-25T13:35:02.708339200Z"
    }
   },
   "outputs": []
  },
  {
   "cell_type": "markdown",
   "source": [
    "Check the lineages:"
   ],
   "metadata": {
    "collapsed": false
   }
  },
  {
   "cell_type": "code",
   "execution_count": 16,
   "source": [
    "sc.pl.draw_graph(\n",
    "    adata,\n",
    "    color=adata.uns['lineages'],\n",
    "    ncols=4,\n",
    "    wspace=0.2,\n",
    ")"
   ],
   "metadata": {
    "collapsed": false,
    "ExecuteTime": {
     "end_time": "2023-09-25T13:35:07.322074100Z",
     "start_time": "2023-09-25T13:35:06.700179300Z"
    }
   },
   "outputs": []
  },
  {
   "cell_type": "markdown",
   "source": [
    "<a id=\"section10\"></a>\n",
    "## 10. Save the preprocessed adata"
   ],
   "metadata": {
    "collapsed": false
   }
  },
  {
   "cell_type": "code",
   "execution_count": 17,
   "source": [
    "adata.write_h5ad(\"mouse_HSC_nestorowa16_v1.h5ad\")"
   ],
   "metadata": {
    "collapsed": false,
    "ExecuteTime": {
     "end_time": "2023-09-25T13:35:14.812519Z",
     "start_time": "2023-09-25T13:35:14.282229900Z"
    }
   },
   "outputs": []
  }
 ],
 "metadata": {
  "kernelspec": {
   "display_name": "Python 3",
   "language": "python",
   "name": "python3"
  },
  "language_info": {
   "codemirror_mode": {
    "name": "ipython",
    "version": 2
   },
   "file_extension": ".py",
   "mimetype": "text/x-python",
   "name": "python",
   "nbconvert_exporter": "python",
   "pygments_lexer": "ipython2",
   "version": "2.7.6"
  }
 },
 "nbformat": 4,
 "nbformat_minor": 0
}
