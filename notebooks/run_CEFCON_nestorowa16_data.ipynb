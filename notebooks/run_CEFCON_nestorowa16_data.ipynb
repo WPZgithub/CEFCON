{
 "cells": [
  {
   "cell_type": "markdown",
   "source": [
    "# Overview\n",
    "This notebook provides instructions on how to use CEFCON for the following tasks: \n",
    "- constructing cell-lineage-specific GRNs,\n",
    "- identifying driver regulators,\n",
    "- finding regulon-like gene modules,\n",
    "- visualizing and analyzing the results.\n",
    "\n",
    "We use the scRNA-seq data from Nestorowa et al. (2016, Blood), which is about mouse hematopoietic stem and progenitor cell differentiation."
   ],
   "metadata": {
    "collapsed": false
   }
  },
  {
   "cell_type": "markdown",
   "source": [
    "### Contents\n",
    "- [1. Load the preprocessed data](#section1)\n",
    "- [2. Construct cell-lineage-specific GRNs](#section2)\n",
    "- [3. Identify driver regulators for each developmental lineage](#section3)\n",
    "- [4. Find regulon-like gene modules (RGMS)](#section4)\n",
    "- [5. Visualization and analyses of results](#section5)"
   ],
   "metadata": {
    "collapsed": false
   }
  },
  {
   "cell_type": "code",
   "execution_count": 2,
   "source": [
    "import cefcon as cf\n",
    "import matplotlib.pyplot as plt\n",
    "\n",
    "import warnings\n",
    "warnings.filterwarnings(\"ignore\")"
   ],
   "metadata": {
    "collapsed": false,
    "ExecuteTime": {
     "end_time": "2023-10-02T08:49:30.888596900Z",
     "start_time": "2023-10-02T08:49:29.049372400Z"
    }
   },
   "outputs": []
  },
  {
   "cell_type": "code",
   "execution_count": 3,
   "source": [
    "%matplotlib inline\n",
    "%config InlineBackend.figure_format = 'retina'\n",
    "plt.rcParams[\"savefig.dpi\"] = 300\n",
    "plt.rcParams[\"figure.figsize\"] = [6, 4.5]"
   ],
   "metadata": {
    "collapsed": false,
    "ExecuteTime": {
     "end_time": "2023-10-02T08:49:30.903737500Z",
     "start_time": "2023-10-02T08:49:30.888596900Z"
    }
   },
   "outputs": []
  },
  {
   "cell_type": "markdown",
   "source": [
    "<a id = \"section1\"> </a>\n",
    "## 1. Load the preprocessed data"
   ],
   "metadata": {
    "collapsed": false
   }
  },
  {
   "cell_type": "markdown",
   "source": [
    "Here, we use the mouse hematopoiesis data provided by [Nestorowa et al. (2016, Blood)](https://doi.org/10.1182/blood-2016-05-716480). Please check this [notebook]() to learn about scRNA-seq data preprocessing."
   ],
   "metadata": {
    "collapsed": false
   }
  },
  {
   "cell_type": "code",
   "execution_count": 4,
   "source": [
    "# Load the preprocessed data\n",
    "adata = cf.datasets.mouse_hsc_nestorowa16()\n",
    "adata"
   ],
   "metadata": {
    "collapsed": false,
    "ExecuteTime": {
     "end_time": "2023-10-02T08:49:32.264701100Z",
     "start_time": "2023-10-02T08:49:32.164671200Z"
    }
   },
   "outputs": []
  },
  {
   "cell_type": "markdown",
   "source": [
    "Load the prior gene interaction network"
   ],
   "metadata": {
    "collapsed": false
   }
  },
  {
   "cell_type": "code",
   "execution_count": null,
   "source": [
    "prior_network = cf.datasets.load_human_prior_interaction_network(dataset='nichenet')\n",
    "# Convert the gene symbols of the prior gene interaction network to the mouse gene symbols\n",
    "prior_network = cf.datasets.convert_human_to_mouse_network(prior_network)"
   ],
   "metadata": {
    "collapsed": false
   },
   "outputs": []
  },
  {
   "cell_type": "markdown",
   "source": [
    "Alternatively, you can directly specify the file path of the input prior interaction network and import the specified file using the `cf.data_preparation` function."
   ],
   "metadata": {
    "collapsed": false
   }
  },
  {
   "cell_type": "code",
   "execution_count": 5,
   "source": [
    "prior_network = './Reference_Networks/combined_network_Mouse.txt'"
   ],
   "metadata": {
    "collapsed": false,
    "ExecuteTime": {
     "end_time": "2023-10-02T08:49:36.188971500Z",
     "start_time": "2023-10-02T08:49:36.100107100Z"
    }
   },
   "outputs": []
  },
  {
   "cell_type": "markdown",
   "source": [
    "<a id = \"section2\"> </a>\n",
    "## 2. Construct cell-lineage-specific GRNs\n"
   ],
   "metadata": {
    "collapsed": false
   }
  },
  {
   "cell_type": "code",
   "execution_count": 6,
   "source": [
    "data = cf.data_preparation(adata, prior_network)"
   ],
   "metadata": {
    "collapsed": false,
    "ExecuteTime": {
     "end_time": "2023-10-02T08:50:27.418528Z",
     "start_time": "2023-10-02T08:49:38.304320300Z"
    }
   },
   "outputs": []
  },
  {
   "cell_type": "markdown",
   "source": [
    "Assign a CUDA device:"
   ],
   "metadata": {
    "collapsed": false
   }
  },
  {
   "cell_type": "code",
   "execution_count": 7,
   "source": [
    "CUDA = '0'"
   ],
   "metadata": {
    "collapsed": false,
    "ExecuteTime": {
     "end_time": "2023-10-02T08:50:27.419513300Z",
     "start_time": "2023-10-02T08:50:27.416485700Z"
    }
   },
   "outputs": []
  },
  {
   "cell_type": "markdown",
   "source": [
    "Lineage-by-lineage computation:"
   ],
   "metadata": {
    "collapsed": false
   }
  },
  {
   "cell_type": "code",
   "execution_count": 8,
   "source": [
    "%%time\n",
    "cefcon_results_dict = {}\n",
    "for li, data_li in data.items():\n",
    "    # We suggest setting up multiple repeats to minimize the randomness of the computation.\n",
    "    cefcon_GRN_model = cf.NetModel(epochs=350, repeats=3, cuda=CUDA, seed=-1)\n",
    "    cefcon_GRN_model.run(data_li)\n",
    "\n",
    "    cefcon_results = cefcon_GRN_model.get_cefcon_results(edge_threshold_avgDegree=8)\n",
    "    cefcon_results_dict[li] = cefcon_results"
   ],
   "metadata": {
    "collapsed": false,
    "ExecuteTime": {
     "end_time": "2023-10-02T08:54:13.280080200Z",
     "start_time": "2023-10-02T08:50:27.506752900Z"
    }
   },
   "outputs": []
  },
  {
   "cell_type": "markdown",
   "source": [
    "<a id = \"section4\"> </a>\n",
    "## 4. Idenytify driver regulators for each lineage\n"
   ],
   "metadata": {
    "collapsed": false
   }
  },
  {
   "cell_type": "code",
   "execution_count": 9,
   "source": [
    "%%time\n",
    "for li, result_li in cefcon_results_dict.items():\n",
    "    print(f'Lineage - {li}:')\n",
    "    result_li.gene_influence_score()\n",
    "    result_li.driver_regulators()"
   ],
   "metadata": {
    "collapsed": false,
    "ExecuteTime": {
     "end_time": "2023-10-02T08:54:14.425796900Z",
     "start_time": "2023-10-02T08:54:13.284092100Z"
    }
   },
   "outputs": []
  },
  {
   "cell_type": "markdown",
   "source": [
    "<a id = \"section5\"> </a>\n",
    "## 5. Identify regulon-like gene modules (RGMs)\n"
   ],
   "metadata": {
    "collapsed": false
   }
  },
  {
   "cell_type": "code",
   "execution_count": 10,
   "source": [
    "%%time\n",
    "for li, result_li in cefcon_results_dict.items():\n",
    "    print(f'Lineage - {li}:')\n",
    "    result_li.RGM_activity()"
   ],
   "metadata": {
    "collapsed": false,
    "ExecuteTime": {
     "end_time": "2023-10-02T09:08:02.716910Z",
     "start_time": "2023-10-02T09:07:01.806754700Z"
    }
   },
   "outputs": []
  },
  {
   "cell_type": "markdown",
   "source": [
    "<a id = \"section6\"> </a>\n",
    "## 6. Visualization and analyses of results"
   ],
   "metadata": {
    "collapsed": false
   }
  },
  {
   "cell_type": "code",
   "execution_count": 11,
   "source": [
    "# Check the names of lineages\n",
    "print(list(data.keys()))"
   ],
   "metadata": {
    "collapsed": false,
    "ExecuteTime": {
     "end_time": "2023-10-02T09:08:03.037637300Z",
     "start_time": "2023-10-02T09:08:02.993307800Z"
    }
   },
   "outputs": []
  },
  {
   "cell_type": "markdown",
   "source": [
    "Here, we choose one lineage for further analysis."
   ],
   "metadata": {
    "collapsed": false
   }
  },
  {
   "cell_type": "code",
   "execution_count": 12,
   "source": [
    "lineage = 'E_pseudotime'\n",
    "result = cefcon_results_dict[lineage]"
   ],
   "metadata": {
    "collapsed": false,
    "ExecuteTime": {
     "end_time": "2023-10-02T09:08:03.039663600Z",
     "start_time": "2023-10-02T09:08:03.037637300Z"
    }
   },
   "outputs": []
  },
  {
   "cell_type": "markdown",
   "source": [
    "\\> Plot degree distribution of the inferred lineage-specific GRN and show some key topological metrics"
   ],
   "metadata": {
    "collapsed": false
   }
  },
  {
   "cell_type": "code",
   "execution_count": 13,
   "source": [
    "result.plot_network_degree_distribution()"
   ],
   "metadata": {
    "collapsed": false,
    "ExecuteTime": {
     "end_time": "2023-10-02T09:08:04.333125Z",
     "start_time": "2023-10-02T09:08:03.037637300Z"
    }
   },
   "outputs": []
  },
  {
   "cell_type": "markdown",
   "source": [
    "\\> Plot gene embedding clusters"
   ],
   "metadata": {
    "collapsed": false
   }
  },
  {
   "cell_type": "code",
   "execution_count": 14,
   "source": [
    "result.plot_gene_embedding_with_clustering(n_neighbors=30, resolution=1)"
   ],
   "metadata": {
    "collapsed": false,
    "ExecuteTime": {
     "end_time": "2023-10-02T09:08:11.603855400Z",
     "start_time": "2023-10-02T09:08:04.333125Z"
    }
   },
   "outputs": []
  },
  {
   "cell_type": "markdown",
   "source": [
    "\\> Plot influence scores of driver regulators"
   ],
   "metadata": {
    "collapsed": false
   }
  },
  {
   "cell_type": "code",
   "execution_count": 15,
   "source": [
    "result.plot_influence_score()"
   ],
   "metadata": {
    "collapsed": false,
    "ExecuteTime": {
     "end_time": "2023-10-02T09:08:11.898993200Z",
     "start_time": "2023-10-02T09:08:11.602855200Z"
    }
   },
   "outputs": []
  },
  {
   "cell_type": "markdown",
   "source": [
    "\\> Plot Venn diagram of MDS driver genes, MFVS driver genes and top-ranked genes"
   ],
   "metadata": {
    "collapsed": false
   }
  },
  {
   "cell_type": "code",
   "execution_count": 16,
   "source": [
    "result.plot_driver_genes_Venn()"
   ],
   "metadata": {
    "collapsed": false,
    "ExecuteTime": {
     "end_time": "2023-10-02T09:08:11.899990Z",
     "start_time": "2023-10-02T09:08:11.641757800Z"
    }
   },
   "outputs": []
  },
  {
   "cell_type": "markdown",
   "source": [
    "\\> Plot heat map of the activity matrix of RGMs"
   ],
   "metadata": {
    "collapsed": false
   }
  },
  {
   "cell_type": "code",
   "execution_count": 17,
   "source": [
    "result.plot_RGM_activity_heatmap(cell_label=None, type='out')"
   ],
   "metadata": {
    "collapsed": false,
    "ExecuteTime": {
     "end_time": "2023-10-02T09:08:12.172812500Z",
     "start_time": "2023-10-02T09:08:11.675184600Z"
    }
   },
   "outputs": []
  },
  {
   "cell_type": "markdown",
   "source": [
    "\\> Plot network with user specified genes"
   ],
   "metadata": {
    "collapsed": false
   }
  },
  {
   "cell_type": "code",
   "execution_count": 18,
   "source": [
    "genes = result.driver_regulator.index[0:30]\n",
    "\n",
    "network = result.plot_network(genes)"
   ],
   "metadata": {
    "collapsed": false,
    "ExecuteTime": {
     "end_time": "2023-10-02T09:08:12.922335800Z",
     "start_time": "2023-10-02T09:08:12.139553700Z"
    }
   },
   "outputs": []
  },
  {
   "cell_type": "markdown",
   "source": [
    "\\> Plot controllability metrics of all the lineages"
   ],
   "metadata": {
    "collapsed": false
   }
  },
  {
   "cell_type": "code",
   "execution_count": 19,
   "source": [
    "cf.utils.plot_controllability_metrics(cefcon_results_dict, return_value=False)\n"
   ],
   "metadata": {
    "collapsed": false,
    "ExecuteTime": {
     "end_time": "2023-10-02T09:08:13.285489700Z",
     "start_time": "2023-10-02T09:08:12.922335800Z"
    }
   },
   "outputs": []
  },
  {
   "cell_type": "code",
   "execution_count": null,
   "source": [],
   "metadata": {
    "collapsed": false
   },
   "outputs": []
  }
 ],
 "metadata": {
  "kernelspec": {
   "display_name": "Python 3",
   "language": "python",
   "name": "python3"
  },
  "language_info": {
   "codemirror_mode": {
    "name": "ipython",
    "version": 2
   },
   "file_extension": ".py",
   "mimetype": "text/x-python",
   "name": "python",
   "nbconvert_exporter": "python",
   "pygments_lexer": "ipython2",
   "version": "2.7.6"
  }
 },
 "nbformat": 4,
 "nbformat_minor": 0
}
